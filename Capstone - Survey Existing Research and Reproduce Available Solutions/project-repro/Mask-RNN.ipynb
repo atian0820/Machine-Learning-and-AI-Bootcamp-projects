{
 "cells": [
  {
   "cell_type": "markdown",
   "metadata": {},
   "source": [
    "# Related Sources\n",
    "#### Source:\n",
    "https://www.kaggle.com/datasets/mauriziocalabrese/soldef-ai-pcb-dataset-for-defect-detection/data"
   ]
  }
 ],
 "metadata": {
  "language_info": {
   "name": "python"
  }
 },
 "nbformat": 4,
 "nbformat_minor": 2
}
