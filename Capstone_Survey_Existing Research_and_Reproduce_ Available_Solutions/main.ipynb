{
 "cells": [
  {
   "cell_type": "markdown",
   "id": "9eb25cbe",
   "metadata": {},
   "source": []
  },
  {
   "cell_type": "markdown",
   "id": "4fd6f343",
   "metadata": {},
   "source": [
    "### Introduction\n",
    "This is the main page of this capstone assignement. In this notebook, I will list my findings on existing researchs about my Capstone Project: `PCB component detection`. \n",
    "The content will follow this [rubric](https://docs.google.com/document/d/1Ut-DuO5lTQrviqO4JWig8qCuqtSF-jiC/edit?tab=t.0)"
   ]
  },
  {
   "cell_type": "markdown",
   "id": "e36f2354",
   "metadata": {},
   "source": [
    "-----"
   ]
  },
  {
   "cell_type": "markdown",
   "id": "c79cb181",
   "metadata": {},
   "source": [
    "### List of related research\n",
    "#### [PCBDet: An Efficient Deep Neural Network Object Detection Architecture for Automatic PCB Component Detection on the Edge](https://arxiv.org/abs/2301.09268?utm_source=chatgpt.com)**\n",
    "PCBDet is a targeted object detection framework designed for efficient, accurate component detection on printed circuit boards (PCBs), especially optimized for edge devices.\n",
    "##### **PCBDet Architecture**\n",
    "Built upon a YOLO-like one-stage design with tailored improvements. Balances **efficiency** and **accuracy** on low-resource devices.\n",
    "  - One-stage detectors are faster and better suited for real-time or edge applications.\n",
    "Tailored Improvements for PCBs, on top of YOLO:\n",
    "   1. **Lightweight Backbone** : PCBDet replaces YOLO’s heavy backbone (e.g., CSPDarknet) with efficient alternatives like **MobileNetV2** or **ShuffleNet** blocks. it also reduces **model size** and **computational complexity** significantly.\n",
    "   2. **Custom Detection Head** : YOLO’s detection head is generic; PCBDet’s is optimized for **small, rectangular, densely packed PCB components**. This improves localization and classification accuracy on PCBs.\n",
    "   3. **Domain-Specific Anchor Design**: Instead of using default YOLO anchors, PCBDet uses **k-means clustering** on PCB datasets to generate **custom anchors**. These better reflect real PCB component sizes and aspect ratios.\n",
    "   4. **Simplified Feature Fusion (Neck)**: YOLO uses full PANet or FPN modules; PCBDet **prunes and simplifies** this structure. Keeps essential multi-scale features while reducing unnecessary overhead.\n",
    "   5. **Quantization-Aware Training ([QAT](https://wandb.ai/byyoung3/Generative-AI/reports/Quantization-Aware-Training-QAT-A-step-by-step-guide-with-PyTorch--VmlldzoxMTk2NTY2Mw))**: Supports **QAT** to maintain high accuracy even after compression. Enables **efficient deployment on edge devices** like NVIDIA Jetson Nano.\n",
    "\n",
    "##### **Domain-Specific Optimizations**\n",
    "   - Leverages **component-level prior knowledge** (e.g., size/shape of PCB parts). Since most of the PCB component share similar looks, and layout pattern. This can help 1) improve bounding box regression accuracy; 2) Reduce false positives in dense or cluttered regions; 3) Focus on relevant spatial scales.\n",
    "   - Includes optimized anchor generation and feature selection for PCB layouts. It uses k-means clustering on the training dataset to create PCB-specific anchors. These anchors better match the aspect ratios and sizes of real components and results in more accurate proposals and less post-processing noise.\n",
    "\n",
    "##### **Training Efficiency**\n",
    "   - Fewer parameters and reduced memory usage due to a lightweight backbone (e.g., MobileNetV2-like) and a pruned neck.\n",
    "   - Unlike heavy models that require large batches to stabilize training, PCBDet can converge with smaller batches. Makes it ideal for constrained environments or fast prototyping.\n",
    "\n",
    "##### **Benchmark & Results**\n",
    "| Model         | Accuracy (mAP)          | Model Size   | Latency | Edge Suitability |\n",
    "|---------------|--------------------------|--------------|---------|------------------|\n",
    "| YOLOv5-small  | High                     | Medium       | Moderate| Partially        |\n",
    "| Faster R-CNN  | Highest (slightly)       | Large        | High    | Poor             |\n",
    "| PCBDet        | Competitive or Better    | Very Small   | Low     | Excellent        |\n"
   ]
  },
  {
   "cell_type": "markdown",
   "id": "ed111af0",
   "metadata": {},
   "source": [
    "---"
   ]
  },
  {
   "cell_type": "markdown",
   "id": "a98b3d84",
   "metadata": {},
   "source": [
    "#### [Advancements in PCB Components Recognition Using WaferCaps: A Data Fusion and Deep Learning Approach](https://www.mdpi.com/2079-9292/13/10/1863?utm_source=chatgpt.com)**\n",
    "   - Combines image capture and deep learning with decision fusion of three WaferCaps-based classifiers.\n",
    "   - Outperforms standalone models like ResNet-50 and Inception-V3.\n",
    "\n",
    "#### [Data-Efficient Graph Embedding Learning for PCB Component Detection](https://arxiv.org/abs/1811.06994?utm_source=chatgpt.com)**\n",
    "   - Proposes a 3-stage pipeline using class-agnostic proposals, low-shot classification, and graph networks to refine features.\n",
    "\n",
    "#### [PCB Component Detection Using Computer Vision for Hardware Assurance](https://www.mdpi.com/2504-2289/6/2/39?utm_source=chatgpt.com)**\n",
    "   - Uses classical computer vision features (color, shape, texture) combined with machine learning to enhance detection performance.\n",
    "\n",
    "#### [Why Is Deep Learning Challenging for Printed Circuit Board (PCB) Component Recognition and How Can We Address It?](https://www.mdpi.com/2410-387X/5/1/9?utm_source=chatgpt.com)**\n",
    "   - Discusses deep learning challenges like data scarcity.\n",
    "   - Proposes ECLAD-Net for low-shot learning (single-digit samples per class)."
   ]
  },
  {
   "cell_type": "markdown",
   "id": "c3de6233",
   "metadata": {},
   "source": [
    "### Available code examples/notebooks\n",
    "1. [PCB-Component-Detection by s39674](https://github.com/s39674/PCB-Component-Detection)\n",
    "   - **Description**: A PyTorch-based project that utilizes the `pcb_wacv_2019` dataset for training models to detect PCB components.\n",
    "   - **Includes**: Data extraction scripts, training pipeline, evaluation.\n",
    "\n",
    "2. [PCB Components Detection and Recognition by talisma-cassoma](https://github.com/talisma-cassoma/pcb-components-detection-recognition)\n",
    "   - **Description**: YOLOv5-based component recognition system.\n",
    "   - **Includes**: Google Colab-ready Jupyter Notebook (`pccb_components_recognition.ipynb`), training script, dataset setup instructions.\n",
    "\n",
    "3. [Comprehensive Guide to Detecting and Identifying Defects in PCBs Using YOLOv5](https://medium.com/@gayathri.s.de/comprehensive-guide-to-detecting-and-identifying-defects-in-pcbs-using-yolov5-5d3f44e06909)\n",
    "   - **Platform**: Medium\n",
    "   - **Description**: Step-by-step guide for training YOLOv5 on PCB datasets.\n",
    "   - **Includes**: Data annotation, model training, inference, evaluation in Jupyter Notebook format.\n",
    "\n",
    "4. [Detect Defects on Printed Circuit Boards Using YOLOX Network (MathWorks)](https://www.mathworks.com/help/deeplearning/ug/detect-pcb-defects-using-yolox-deep-learning.html)\n",
    "   - **Description**: MATLAB-based tutorial using YOLOX for defect detection.\n",
    "   - **Includes**: Dataset download, training, evaluation, pretrained models.\n",
    "\n",
    "5. [PCB Defects Classification Using Deep Learning by MukundSai7907](https://github.com/MukundSai7907/PCB-Defects-Classification-Using-Deep-Learning)\n",
    "   - **Description**: Combines traditional image processing with DenseNet classification.\n",
    "   - **Includes**: Preprocessing, classification code, evaluation metrics."
   ]
  },
  {
   "cell_type": "markdown",
   "id": "fddb12e0",
   "metadata": {},
   "source": []
  }
 ],
 "metadata": {
  "language_info": {
   "name": "python"
  }
 },
 "nbformat": 4,
 "nbformat_minor": 5
}
