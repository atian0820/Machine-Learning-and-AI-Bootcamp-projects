{
 "cells": [
  {
   "cell_type": "markdown",
   "id": "9eb25cbe",
   "metadata": {},
   "source": []
  },
  {
   "cell_type": "markdown",
   "id": "4fd6f343",
   "metadata": {},
   "source": [
    "### Introduction\n",
    "This is the main page of this capstone assignement. In this notebook, I will list my findings on existing researchs about my Capstone Project: `PCB component detection`. \n",
    "The content will follow this [rubric](https://docs.google.com/document/d/1Ut-DuO5lTQrviqO4JWig8qCuqtSF-jiC/edit?tab=t.0)"
   ]
  },
  {
   "cell_type": "markdown",
   "id": "e36f2354",
   "metadata": {},
   "source": [
    "-----"
   ]
  },
  {
   "cell_type": "markdown",
   "id": "ae8eb570",
   "metadata": {},
   "source": [
    "### List of related research"
   ]
  },
  {
   "cell_type": "markdown",
   "id": "c79cb181",
   "metadata": {},
   "source": [
    "#### [PCBDet: An Efficient Deep Neural Network Object Detection Architecture for Automatic PCB Component Detection on the Edge](https://arxiv.org/abs/2301.09268?utm_source=chatgpt.com)**\n",
    "PCBDet is a targeted object detection framework designed for efficient, accurate component detection on printed circuit boards (PCBs), especially optimized for edge devices.\n",
    "##### **PCBDet Architecture**\n",
    "Built upon a YOLO-like one-stage design with tailored improvements. Balances **efficiency** and **accuracy** on low-resource devices.\n",
    "  - One-stage detectors are faster and better suited for real-time or edge applications.\n",
    "Tailored Improvements for PCBs, on top of YOLO:\n",
    "   1. **Lightweight Backbone** : PCBDet replaces YOLO’s heavy backbone (e.g., CSPDarknet) with efficient alternatives like **MobileNetV2** or **ShuffleNet** blocks. it also reduces **model size** and **computational complexity** significantly.\n",
    "   2. **Custom Detection Head** : YOLO’s detection head is generic; PCBDet’s is optimized for **small, rectangular, densely packed PCB components**. This improves localization and classification accuracy on PCBs.\n",
    "   3. **Domain-Specific Anchor Design**: Instead of using default YOLO anchors, PCBDet uses **k-means clustering** on PCB datasets to generate **custom anchors**. These better reflect real PCB component sizes and aspect ratios.\n",
    "   4. **Simplified Feature Fusion (Neck)**: YOLO uses full PANet or FPN modules; PCBDet **prunes and simplifies** this structure. Keeps essential multi-scale features while reducing unnecessary overhead.\n",
    "   5. **Quantization-Aware Training ([QAT](https://wandb.ai/byyoung3/Generative-AI/reports/Quantization-Aware-Training-QAT-A-step-by-step-guide-with-PyTorch--VmlldzoxMTk2NTY2Mw))**: Supports **QAT** to maintain high accuracy even after compression. Enables **efficient deployment on edge devices** like NVIDIA Jetson Nano.\n",
    "\n",
    "##### **Domain-Specific Optimizations**\n",
    "   - Leverages **component-level prior knowledge** (e.g., size/shape of PCB parts). Since most of the PCB component share similar looks, and layout pattern. This can help 1) improve bounding box regression accuracy; 2) Reduce false positives in dense or cluttered regions; 3) Focus on relevant spatial scales.\n",
    "   - Includes optimized anchor generation and feature selection for PCB layouts. It uses k-means clustering on the training dataset to create PCB-specific anchors. These anchors better match the aspect ratios and sizes of real components and results in more accurate proposals and less post-processing noise.\n",
    "\n",
    "##### **Training Efficiency**\n",
    "   - Fewer parameters and reduced memory usage due to a lightweight backbone (e.g., MobileNetV2-like) and a pruned neck.\n",
    "   - Unlike heavy models that require large batches to stabilize training, PCBDet can converge with smaller batches. Makes it ideal for constrained environments or fast prototyping.\n",
    "\n",
    "##### **Benchmark & Results**\n",
    "| Model         | Accuracy (mAP)          | Model Size   | Latency | Edge Suitability |\n",
    "|---------------|--------------------------|--------------|---------|------------------|\n",
    "| YOLOv5-small  | High                     | Medium       | Moderate| Partially        |\n",
    "| Faster R-CNN  | Highest (slightly)       | Large        | High    | Poor             |\n",
    "| PCBDet        | Competitive or Better    | Very Small   | Low     | Excellent        |\n"
   ]
  },
  {
   "cell_type": "markdown",
   "id": "ed111af0",
   "metadata": {},
   "source": [
    "---"
   ]
  },
  {
   "cell_type": "markdown",
   "id": "c0fae1cb",
   "metadata": {},
   "source": [
    "#### [Data-Efficient Graph Embedding Learning for PCB Component Detection](https://arxiv.org/abs/1811.06994?utm_source=chatgpt.com)**\n",
    "##### **Methodology**\n",
    "It uses Class-Agnostic Region Proposal Network (RPN) modal, which is fine-tuned from the ResNet-50 Faster R-CNN model pre-trained on COCO.\n",
    "   - A Region Proposal Network (RPN) is commonly used in object detection pipelines like Faster R-CNN to generate potential object locations (bounding boxes). In this case, the RPN is class-agnostic, meaning it doesn't attempt to classify what the object is, only that \"something is here.\"\n",
    "   - Why it's important for PCBs: PCBs contain many different types of components, and training a fully supervised model for every type is costly. By decoupling detection from classification, the model avoids biasing toward a specific set of known classes and can generalize better to unseen components. This helps ensure full coverage of the board, catching even rare or unknown components.\n",
    "\n",
    "Low-Shot Similarity Prediction Classifier:\n",
    "   - Once candidate regions are generated by the RPN, this module classifies them using a similarity-based approach (also called metric learning or few-shot learning).\n",
    "     - The model learns an embedding space where similar components are close together.\n",
    "     - Given a new region, it compares its features to a few known labeled examples (support set) using a similarity metric (e.g., cosine similarity or Euclidean distance).\n",
    "     - Classification is done by assigning the label of the most similar known component.\n",
    "     - Reduces the need for large labeled datasets.\n",
    "     - Particularly effective when you have only a few labeled examples per class, which is common in real-world PCB datasets.\n",
    "     - It also allows the system to adapt easily to new component types by simply adding a few examples, without retraining the entire model.\n",
    "\n",
    "Graph Network Block for Feature Refinement:\n",
    "   - After initial detection and classification, this block builds a graph-based representation of the components on the board. Each node is a detected component, and edges capture relationships (typically spatial) between them.\n",
    "     - Uses a Graph Convolutional Network (GCN) to refine the feature representations of components by aggregating contextual information from neighbors.\n",
    "     - For example, a connector might always be near a power port; the model can learn such structural relationships.\n",
    "     - PCBs have a highly structured layout, and components often appear in predictable spatial patterns.\n",
    "     - By incorporating relational information, the model improves classification accuracy, especially for ambiguous or small components.\n",
    "\n",
    "Dataset is provided [here](https://sites.google.com/view/chiawen-kuo/home/pcb-component-detection?utm_source=chatgpt.com)"
   ]
  },
  {
   "cell_type": "markdown",
   "id": "1d862c6b",
   "metadata": {},
   "source": [
    "---"
   ]
  },
  {
   "cell_type": "markdown",
   "id": "c3de6233",
   "metadata": {},
   "source": [
    "### Available code examples/notebooks\n",
    "1. [PCB-Component-Detection by s39674](https://github.com/s39674/PCB-Component-Detection)\n",
    "   - **Description**: A PyTorch-based project that utilizes the `pcb_wacv_2019` dataset for training models to detect PCB components.\n",
    "   - **Includes**: Data extraction scripts, training pipeline, evaluation.\n",
    "\n",
    "2. [DARK-art108/PCB-Components-Detection](https://github.com/DARK-art108/PCB-Components-Detection)\n",
    "   - **Model**: YOLOv5  \n",
    "   - **Description**: Detects PCB components like resistors, capacitors, switches, connectors, and transistors. Includes a Jupyter Notebook and annotated datasets.\n",
    "\n",
    "3. [ghaith7/pcb-component-detect-and-classify](https://github.com/ghaith7/pcb-component-detect-and-classify)\n",
    "      - **Model**: U-Net for segmentation + CNN for classification  \n",
    "      - **Description**: Two-stage pipeline for segmenting and classifying PCB components. Built with Keras and TensorFlow.\n",
    "\n",
    "4. [dayana123456789/PCB-Components-Detection-using-Mask-RCNN](https://github.com/dayana123456789/PCB-Components-Detection-using-Mask-RCNN)\n",
    "      - **Model**: Mask R-CNN (ResNet101 backbone)  \n",
    "      - **Description**: Detects and segments components on PCBs with high accuracy (mAP ~0.91). Includes Flask deployment and uses VGG Image Annotator.\n",
    "\n",
    "5. [sharvaniyadav/Automated-Component-Detection-in-PCB-Manufacturing-Using-YOLOv8-Project-3](https://github.com/sharvaniyadav/Automated-Component-Detection-in-PCB-Manufacturing-Using-YOLOv8-Project-3)\n",
    "      - **Model**: YOLOv8  \n",
    "      - **Description**: Automates PCB component detection for manufacturing use-cases. Includes full training and inference code.\n"
   ]
  }
 ],
 "metadata": {
  "language_info": {
   "name": "python"
  }
 },
 "nbformat": 4,
 "nbformat_minor": 5
}
